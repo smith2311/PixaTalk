{
 "cells": [
  {
   "cell_type": "code",
   "execution_count": null,
   "metadata": {},
   "outputs": [],
   "source": [
    "# Install necessary packages\n",
    "%pip install diffusers transformers accelerate safetensors\n",
    "%pip install customtkinter\n",
    "%pip install Pillow"
   ]
  },
  {
   "cell_type": "code",
   "execution_count": null,
   "metadata": {},
   "outputs": [],
   "source": [
    "import tkinter as tk\n",
    "import customtkinter as ctk\n",
    "from PIL import Image, ImageTk\n",
    "import torch\n",
    "from diffusers import StableDiffusionPipeline\n",
    "from authtoken import auth_token\n",
    "\n",
    "app = tk.Tk()\n",
    "app.geometry(\"532x622\")\n",
    "app.title(\"Aquarius\")\n",
    "ctk.set_appearance_mode(\"dark\")\n",
    "\n",
    "prompt = ctk.CTkEntry(master=app,\n",
    "                      height=40,\n",
    "                      width=512,\n",
    "                      font=(\"Arial\", 20),\n",
    "                      text_color=\"black\",\n",
    "                      fg_color=\"white\",\n",
    "                      placeholder_text=\"Enter your prompt here\")\n",
    "prompt.place(x=10, y=10)\n",
    "\n",
    "lmain = ctk.CTkLabel(master=app, height=512, width=512, text=\"\")\n",
    "lmain.place(x=10, y=110)\n",
    "\n",
    "modelid = \"CompVis/stable-diffusion-v1-4\"\n",
    "device = \"cuda\" if torch.cuda.is_available() else \"cpu\"\n",
    "\n",
    "pipe = StableDiffusionPipeline.from_pretrained(\n",
    "    modelid,\n",
    "    torch_dtype=torch.float16 if device == \"cuda\" else torch.float32,\n",
    "    use_auth_token=auth_token\n",
    ")\n",
    "pipe.to(device)\n",
    "\n",
    "def generate():\n",
    "    prompt_text = prompt.get()\n",
    "    if prompt_text.strip() == \"\":\n",
    "        return\n",
    "\n",
    "    image = pipe(prompt_text, guidance_scale=8.5).images[0]\n",
    "    image.save(\"generated_image.png\")\n",
    "\n",
    "    img = Image.open(\"generated_image.png\")\n",
    "    img = img.resize((512, 512))\n",
    "    img = ImageTk.PhotoImage(img)\n",
    "\n",
    "    lmain.configure(image=img)\n",
    "    lmain.image = img\n",
    "\n",
    "trigger = ctk.CTkButton(master=app,\n",
    "                        height=40,\n",
    "                        width=120,\n",
    "                        font=(\"Arial\", 20),\n",
    "                        text_color=\"white\",\n",
    "                        fg_color=\"blue\",\n",
    "                        text=\"Generate\",\n",
    "                        command=generate)\n",
    "trigger.place(x=206, y=60)\n",
    "\n",
    "app.mainloop()"
   ]
  }
 ],
 "metadata": {
  "kernelspec": {
   "display_name": "base",
   "language": "python",
   "name": "python3"
  },
  "language_info": {
   "codemirror_mode": {
    "name": "ipython",
    "version": 3
   },
   "file_extension": ".py",
   "mimetype": "text/x-python",
   "name": "python",
   "nbconvert_exporter": "python",
   "pygments_lexer": "ipython3",
   "version": "3.12.7"
  }
 },
 "nbformat": 4,
 "nbformat_minor": 5
}
